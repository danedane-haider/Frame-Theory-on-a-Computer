{
 "cells": [
  {
   "cell_type": "code",
   "execution_count": 6,
   "metadata": {},
   "outputs": [],
   "source": [
    "import numpy as np\n",
    "from numpy.linalg import det, inv, eigvals, norm, matrix_rank\n",
    "import scipy as sp\n",
    "from scipy.linalg import null_space, sqrtm\n",
    "\n",
    "np.set_printoptions(precision=2)"
   ]
  },
  {
   "attachments": {},
   "cell_type": "markdown",
   "metadata": {},
   "source": [
    "Real finite collection of vectors:<br>\n",
    "$$F=(f_i)_{i\\in I}\\subset \\mathbb{R}^n$$\n",
    "$$I=\\{1,...,m\\}$$\n",
    "$$m/n\\; \\dots \\text{ \"redundancy\"}$$\n",
    "$F$ is a frame if there are $A,B>0$ such that $$A\\cdot \\|f\\|^2 \\leq \\sum_{i\\in I} \\vert \\langle f,f_i \\rangle \\vert^2 \\leq B\\cdot \\|f\\|^2$$\n",
    "for all $f\\in \\mathbb{R}^n$. This is equivalent to $F$ being a spanning set for $\\mathbb{R}^n$ (we'll see) and $A,B$ indicate the numerical stability (we'll see). Clearly, $ m\\geq n$ has to hold. <br>"
   ]
  },
  {
   "attachments": {},
   "cell_type": "markdown",
   "metadata": {},
   "source": [
    "Today: Real random frames:<br>\n",
    "$$f_i \\sim \\mathcal{N}(0,1_n)\\; \\text{i.i.d. for all } i\\in I$$"
   ]
  },
  {
   "cell_type": "code",
   "execution_count": 7,
   "metadata": {},
   "outputs": [],
   "source": [
    "# dimensions\n",
    "m = 6\n",
    "n = 3"
   ]
  },
  {
   "attachments": {},
   "cell_type": "markdown",
   "metadata": {},
   "source": [
    "Analysis operator maps a vector $f\\in \\mathbb{R}^n$ to its frame coefficients via inner products with the $f_i$.\n",
    "$\\begin{align}\n",
    "    T^*:\\mathbb{R}^n &\\rightarrow \\mathbb{R}^m \\\\ f&\\mapsto\\left(\\langle f, f_i\\rangle\\right)_{i\\in I} = \\left(\\langle f_i, f\\rangle\\right)_{i\\in I}\n",
    "\\end{align}$\n",
    "Matrix multiplication from the left:\n",
    "$$\n",
    "T^* f = \\begin{pmatrix}\n",
    "    -\\quad  f_1\\quad  -\\\\\n",
    "  \n",
    "    -\\quad  f_2\\quad  -\\\\\n",
    "      \\vdots  \\\\\n",
    "    -\\quad  f_m\\quad  -\n",
    "\\end{pmatrix} f\n",
    "$$\n",
    "$F$ is a frame iff $T^*$ is injective iff $T^*$ has full (column) rank iff there is $A>0$ such that $A\\cdot \\Vert f \\Vert^2 \\leq \\Vert T^* f\\Vert^2 = \\sum_{i\\in I} \\vert \\langle f,f_i \\rangle \\vert^2$."
   ]
  },
  {
   "attachments": {},
   "cell_type": "markdown",
   "metadata": {},
   "source": [
    "Random setting: $T^*$ is a Gaussian matrix, which has full rank with probability one, i.e., a random collections of random vectors is a frame with prob one."
   ]
  },
  {
   "cell_type": "code",
   "execution_count": 8,
   "metadata": {},
   "outputs": [
    {
     "name": "stdout",
     "output_type": "stream",
     "text": [
      "T* =\n",
      "[[ 0.2   1.15  1.03]\n",
      " [-0.72 -0.14 -1.55]\n",
      " [ 0.85 -0.18  0.23]\n",
      " [ 1.12  1.08  0.63]\n",
      " [-0.37 -1.16 -0.29]\n",
      " [ 0.48  0.69  0.34]]\n",
      "rank = 3\n",
      "frame coeff: [-0.68  0.27  0.33 -0.17  0.38 -0.18]\n"
     ]
    }
   ],
   "source": [
    "T_ana = np.random.randn(m, n)\n",
    "print('T* =')\n",
    "print(T_ana)\n",
    "print('rank =', matrix_rank(T_ana))\n",
    "\n",
    "f = np.random.randn(n)\n",
    "Tf = T_ana @ f\n",
    "print('frame coeff:', Tf)\n",
    "# \"change of basis\""
   ]
  },
  {
   "attachments": {},
   "cell_type": "markdown",
   "metadata": {},
   "source": [
    "Synthesis operator maps frame coefficients $c = (c_i)_{i\\in I}$ back to the signal space $\\mathbb{R}^n$ via linear combinations of $f_i$.\n",
    "\\begin{align}\n",
    "    T:\\mathbb{R}^m &\\rightarrow \\mathbb{R}^n\\\\\n",
    "    (c_i)_{i\\in I}&\\mapsto \\sum_{i\\in I} c_i\\cdot f_i.\n",
    "\\end{align}\n",
    "Matrix multiplication from the left:\n",
    "$$T c = (T^*)^\\top c = \\begin{pmatrix}\n",
    "    \\vert & \\vert & & \\vert\\\\\n",
    "    f_1 & f_2 & \\cdots & f_m\\\\\n",
    "    \\vert & \\vert & & \\vert\\\\\n",
    "\\end{pmatrix} c$$\n",
    "If $F$ is a frame, $T$ is surjective iff $T$ has full (row) rank."
   ]
  },
  {
   "cell_type": "code",
   "execution_count": 9,
   "metadata": {},
   "outputs": [
    {
     "name": "stdout",
     "output_type": "stream",
     "text": [
      "T =\n",
      "[[ 0.2  -0.72  0.85  1.12 -0.37  0.48]\n",
      " [ 1.15 -0.14 -0.18  1.08 -1.16  0.69]\n",
      " [ 1.03 -1.55  0.23  0.63 -0.29  0.34]]\n",
      "rank = 3\n",
      "vector assoc with frame coefficients c: [-0.56  1.77  0.8 ]\n"
     ]
    }
   ],
   "source": [
    "T_syn = T_ana.T\n",
    "print('T =')\n",
    "print(T_syn)\n",
    "print('rank =', matrix_rank(T_syn))\n",
    "\n",
    "c = np.random.randn(m)\n",
    "Tc = T_syn @ c\n",
    "print('vector assoc with frame coefficients c:', Tc)"
   ]
  },
  {
   "attachments": {},
   "cell_type": "markdown",
   "metadata": {},
   "source": [
    "Gramian does synthesis, followed by analysis.\n",
    "\\begin{align}\n",
    "    G:\\mathbb{R}^m &\\rightarrow \\mathbb{R}^m\\\\\n",
    "    c&\\mapsto \\left(\\left\\langle \\sum_{j\\in I} c_j f_j,f_i \\right\\rangle\\right)_{i\\in I}.\n",
    "\\end{align}\n",
    "As a matrix is carries the cross-correlations between the frame elements.\n",
    "$$G=T^*T$$\n",
    "$$G[i,j] = \\langle f_i,f_j \\rangle$$\n",
    "$G$ is\n",
    "- injective from $R_{T^*}$ to $R_{T^*}$ but not invertible on $\\mathbb{R}^m$!\n",
    "- self-adjoint\n",
    "- the non-zero eigenvalues agree with those of $S$"
   ]
  },
  {
   "cell_type": "code",
   "execution_count": 10,
   "metadata": {},
   "outputs": [
    {
     "name": "stdout",
     "output_type": "stream",
     "text": [
      "Gram =\n",
      "[[ 2.42 -1.89  0.19  2.11 -1.7   1.25]\n",
      " [-1.89  2.94 -0.93 -1.93  0.87 -0.97]\n",
      " [ 0.19 -0.93  0.8   0.89 -0.17  0.35]\n",
      " [ 2.11 -1.93  0.89  2.8  -1.84  1.49]\n",
      " [-1.7   0.87 -0.17 -1.84  1.56 -1.08]\n",
      " [ 1.25 -0.97  0.35  1.49 -1.08  0.83]]\n",
      "det: -5.018735400409359e-47\n",
      "self-adjoint: True\n",
      "non-zero eigenvalues of G:\n",
      "[8.67 0.94 1.74]\n"
     ]
    }
   ],
   "source": [
    "G = T_ana @ T_syn\n",
    "print('Gram =')\n",
    "print(G)\n",
    "print('det:',det(G))\n",
    "print('self-adjoint:',np.all(G.T == G))\n",
    "\n",
    "lam_G = eigvals(G)\n",
    "#print(lam_G)\n",
    "lam_pos = [l for l in lam_G if abs(l)>1e-10]\n",
    "print('non-zero eigenvalues of G:')\n",
    "print(np.real(lam_pos))\n",
    "# whats the main diagonal of G?"
   ]
  },
  {
   "cell_type": "code",
   "execution_count": 11,
   "metadata": {},
   "outputs": [
    {
     "name": "stdout",
     "output_type": "stream",
     "text": [
      "2.4216529364305206\n"
     ]
    }
   ],
   "source": [
    "# the norms squared are on the diagonal\n",
    "print(np.linalg.norm(T_ana[0,:])**2)"
   ]
  },
  {
   "attachments": {},
   "cell_type": "markdown",
   "metadata": {},
   "source": [
    "Frame operator does analysis, followed by synthesis.\n",
    "\\begin{align}\n",
    "    S:\\mathbb{R}^n &\\rightarrow \\mathbb{R}^n\\\\\n",
    "    f&\\mapsto \\sum_{i\\in I} \\langle f,f_i \\rangle\\cdot f_i.\n",
    "\\end{align}\n",
    "As matrix:\n",
    "$$S = TT^*$$\n",
    "$S$ is\n",
    "- invertible\n",
    "- self-adjoint\n",
    "- positive"
   ]
  },
  {
   "cell_type": "code",
   "execution_count": 12,
   "metadata": {},
   "outputs": [
    {
     "name": "stdout",
     "output_type": "stream",
     "text": [
      "S =\n",
      "[[2.88 2.13 2.48]\n",
      " [2.13 4.36 2.6 ]\n",
      " [2.48 2.6  4.11]]\n",
      "determinant: 14.113681209131995\n",
      "self-adjoint: True\n",
      "positive: 0.8508082979990015\n",
      "eigenvalues of S:\n",
      "[8.67 0.94 1.74]\n"
     ]
    }
   ],
   "source": [
    "S = T_syn @ T_ana\n",
    "print('S =')\n",
    "print(S)\n",
    "print('determinant:',det(S))\n",
    "print('self-adjoint:',np.all(S.T == S))\n",
    "print('positive:',np.dot(S @ f,f))\n",
    "\n",
    "lam = eigvals(S)\n",
    "print('eigenvalues of S:')\n",
    "print(lam)"
   ]
  },
  {
   "attachments": {},
   "cell_type": "markdown",
   "metadata": {},
   "source": [
    "The optimal frame bounds $A,B$ of $F$ are given by the smallest and largest eigenvalues of $S$.<br>\n",
    "$B^{-1},A^{-1}$ are the smallest and largest eigenvalues of $S^{-1}$."
   ]
  },
  {
   "cell_type": "code",
   "execution_count": 13,
   "metadata": {},
   "outputs": [
    {
     "name": "stdout",
     "output_type": "stream",
     "text": [
      "frame bounds: 0.9352063474251706 8.671660685300697\n",
      "frame bounds of inverse:\n",
      "0.11531816526159716 1.0692827339690538\n",
      "inverse of frame bounds:\n",
      "0.11531816526159708 1.0692827339690547\n"
     ]
    }
   ],
   "source": [
    "A = min(lam)\n",
    "B = max(lam)\n",
    "print('frame bounds:', A,B)\n",
    "\n",
    "S_inv = inv(S)\n",
    "lam_inv = eigvals(S_inv)\n",
    "A_inv = min(lam_inv)\n",
    "B_inv = max(lam_inv)\n",
    "print('frame bounds of inverse:')\n",
    "print(A_inv,B_inv)\n",
    "print('inverse of frame bounds:')\n",
    "print(B**(-1), A**(-1))"
   ]
  },
  {
   "attachments": {},
   "cell_type": "markdown",
   "metadata": {},
   "source": [
    "Canonical dual frame $\\tilde{F}=(S^{-1}f_i)_{i\\in I}$"
   ]
  },
  {
   "cell_type": "code",
   "execution_count": 14,
   "metadata": {},
   "outputs": [
    {
     "name": "stdout",
     "output_type": "stream",
     "text": [
      "synthesis operator:\n",
      "[[-0.42  0.03  0.61  0.47  0.    0.13]\n",
      " [ 0.27  0.31 -0.25  0.15 -0.36  0.15]\n",
      " [ 0.33 -0.59 -0.16 -0.23  0.16 -0.09]]\n",
      "check duality:\n",
      "[[ 1.00e+00  6.11e-17  1.73e-16]\n",
      " [ 1.52e-16  1.00e+00  6.41e-17]\n",
      " [ 1.44e-16 -1.74e-16  1.00e+00]]\n"
     ]
    },
    {
     "data": {
      "text/plain": [
       "2.4196749845665633e-16"
      ]
     },
     "execution_count": 14,
     "metadata": {},
     "output_type": "execute_result"
    }
   ],
   "source": [
    "# canonical dual frame\n",
    "T_dual_syn = S_inv @ T_syn\n",
    "print('synthesis operator:')\n",
    "print(T_dual_syn)\n",
    "print('check duality:')\n",
    "S_mixed = T_dual_syn @ T_ana\n",
    "print(S_mixed)\n",
    "# this shows that every frame is dual to its dual\n",
    "norm(f - S_inv @ T_syn @ T_ana @ f)"
   ]
  },
  {
   "attachments": {},
   "cell_type": "markdown",
   "metadata": {},
   "source": [
    "framebounds of the canonical dual frame: $B^{-1},A^{-1}$"
   ]
  },
  {
   "cell_type": "code",
   "execution_count": 15,
   "metadata": {},
   "outputs": [
    {
     "name": "stdout",
     "output_type": "stream",
     "text": [
      "0.115318165261597 1.0692827339690532\n",
      "0.11531816526159708 1.0692827339690547\n"
     ]
    }
   ],
   "source": [
    "S_can = T_dual_syn @ T_dual_syn.T\n",
    "lam_can = eigvals(S_can)\n",
    "A_can = min(lam_can)\n",
    "B_can = max(lam_can)\n",
    "print(A_can, B_can)\n",
    "print(B**(-1), A**(-1))"
   ]
  },
  {
   "attachments": {},
   "cell_type": "markdown",
   "metadata": {},
   "source": [
    "Non-canonical dual frame: $\\tilde{F}'=(S^{-1}f_i + \\delta_i)_{i\\in I}$ for $\\delta_i \\in \\mathcal{N}_T$ (add elements form the null-space of the sythesis operator = range of the orthogonal complement of )"
   ]
  },
  {
   "cell_type": "code",
   "execution_count": 16,
   "metadata": {},
   "outputs": [
    {
     "name": "stdout",
     "output_type": "stream",
     "text": [
      "non-zero element in the kernel of F_syn: [[-0.36 -0.17 -0.65  0.59  0.2  -0.18]]\n",
      "check:\n",
      "[[3.47e-16]\n",
      " [5.00e-16]\n",
      " [2.78e-16]]\n"
     ]
    }
   ],
   "source": [
    "# ONB for the null-space of T_syn\n",
    "B = null_space(T_syn)\n",
    "f_kernel = B[:,0].reshape(1,m)\n",
    "print('non-zero element in the kernel of F_syn:', f_kernel)\n",
    "print('check:')\n",
    "print(T_syn @ f_kernel.T)"
   ]
  },
  {
   "cell_type": "code",
   "execution_count": 17,
   "metadata": {},
   "outputs": [
    {
     "name": "stdout",
     "output_type": "stream",
     "text": [
      "synthesis operator:\n",
      "[[-0.78 -0.14 -0.03  1.06  0.2  -0.05]\n",
      " [-0.09  0.14 -0.89  0.74 -0.16 -0.03]\n",
      " [-0.03 -0.76 -0.81  0.36  0.36 -0.27]]\n",
      "check duality:\n",
      "[[1.00e+00 6.57e-16 5.50e-16]\n",
      " [4.34e-16 1.00e+00 3.60e-16]\n",
      " [4.49e-16 3.93e-16 1.00e+00]]\n",
      "Since Tf_kern = 0, so is f_kernT*:\n",
      "[[3.47e-16 5.00e-16 2.78e-16]]\n"
     ]
    }
   ],
   "source": [
    "T_dual2_syn = T_dual_syn + f_kernel\n",
    "print('synthesis operator:')\n",
    "print(T_dual2_syn)\n",
    "print('check duality:')\n",
    "print(T_dual2_syn @ T_ana)\n",
    "# check that f_kernel is orthogonal to the range of T_ana\n",
    "print('Since Tf_kern = 0, so is f_kernT*:')\n",
    "print(f_kernel @ T_ana)"
   ]
  },
  {
   "attachments": {},
   "cell_type": "markdown",
   "metadata": {},
   "source": [
    "Another non-canonical dual: sparse! choose a sub-frame of $F$ and compute the canonical dual for this one."
   ]
  },
  {
   "cell_type": "code",
   "execution_count": 19,
   "metadata": {},
   "outputs": [
    {
     "name": "stdout",
     "output_type": "stream",
     "text": [
      "[0 1 2]\n"
     ]
    }
   ],
   "source": [
    "# choose 3 random frame elements\n",
    "idx = np.random.randint(0, m, 3)\n",
    "print(np.sort(idx))"
   ]
  },
  {
   "cell_type": "code",
   "execution_count": 20,
   "metadata": {},
   "outputs": [
    {
     "name": "stdout",
     "output_type": "stream",
     "text": [
      "synthesis operator:\n",
      "[[ 0.27  0.39  1.45  0.    0.    0.  ]\n",
      " [ 1.02  0.73  0.38  0.    0.    0.  ]\n",
      " [-0.22 -0.89 -0.71  0.    0.    0.  ]]\n",
      "check duality:\n",
      "[[ 1.00e+00 -5.09e-16 -2.15e-15]\n",
      " [-1.09e-16  1.00e+00 -7.36e-16]\n",
      " [ 3.10e-16  9.29e-17  1.00e+00]]\n"
     ]
    }
   ],
   "source": [
    "S_small = T_syn[:,idx] @ T_ana[idx,:]\n",
    "S_small_inv = inv(S_small)\n",
    "T_dual3_small_syn = S_small_inv @ T_syn[:,idx]\n",
    "T_dual3_syn = np.zeros((n,m))\n",
    "T_dual3_syn[:,idx] = T_dual3_small_syn\n",
    "print('synthesis operator:')\n",
    "print(T_dual3_syn)\n",
    "print('check duality:')\n",
    "print(T_dual3_syn @ T_ana)"
   ]
  },
  {
   "attachments": {},
   "cell_type": "markdown",
   "metadata": {},
   "source": [
    "canonical dual has minimal $\\ell^2$ norm"
   ]
  },
  {
   "cell_type": "code",
   "execution_count": 21,
   "metadata": {},
   "outputs": [
    {
     "name": "stdout",
     "output_type": "stream",
     "text": [
      "canonical: 1.3263506030526315\n",
      "non-canonical: 2.1815604328594884\n",
      "non-canonical2: 2.3195565407340446\n"
     ]
    }
   ],
   "source": [
    "print('canonical:',norm(T_dual_syn))\n",
    "print('non-canonical:',norm(T_dual2_syn))\n",
    "print('non-canonical2:',norm(T_dual3_syn))"
   ]
  },
  {
   "attachments": {},
   "cell_type": "markdown",
   "metadata": {},
   "source": [
    "Canonical tight frame $F_t=(S^{-1/2}f_i)_{i\\in I}$"
   ]
  },
  {
   "cell_type": "code",
   "execution_count": 22,
   "metadata": {},
   "outputs": [
    {
     "name": "stdout",
     "output_type": "stream",
     "text": [
      "frame operator:\n",
      "[[ 1.00e+00  1.62e-15  1.27e-15]\n",
      " [ 1.62e-15  1.00e+00 -5.17e-16]\n",
      " [ 1.27e-15 -5.17e-16  1.00e+00]]\n"
     ]
    }
   ],
   "source": [
    "# canonical tight frame\n",
    "S_inv_sqrt = sqrtm(S_inv)\n",
    "T_syn_tight = S_inv_sqrt @ T_syn\n",
    "T_ana_tight = T_syn_tight.T\n",
    "S_tight = T_syn_tight @ T_ana_tight\n",
    "print('frame operator:')\n",
    "print(S_tight)"
   ]
  },
  {
   "attachments": {},
   "cell_type": "markdown",
   "metadata": {},
   "source": [
    "Redundant frames, which ones can we remove?\n",
    "\\begin{align}\n",
    "\\langle f_i, S^{-1}f_i \\rangle &\\neq 1 \\rightarrow \\text{can remove it}\\\\\n",
    "\\langle f_i, S^{-1}f_i \\rangle &= 1 \\rightarrow \\text{incomplete} \n",
    "\\end{align}\n",
    "intuition: if $\\langle f_i, S^{-1}f_i \\rangle = 1$, then $f_i$ spans its own 1-D sub-space"
   ]
  },
  {
   "cell_type": "code",
   "execution_count": 23,
   "metadata": {},
   "outputs": [
    {
     "name": "stdout",
     "output_type": "stream",
     "text": [
      "[[ 1.85  0.05  1.98]\n",
      " [ 0.05 -1.35 -0.73]\n",
      " [-2.18 -0.9  -1.06]\n",
      " [-2.23 -0.86 -2.85]]\n"
     ]
    }
   ],
   "source": [
    "T_ana_2 = np.random.randn(n, n)\n",
    "f_add = (np.random.randn(1)*T_ana_2[0,:] + np.random.randn(1)*T_ana_2[1,:]).reshape(1,n)\n",
    "T_ana_dep = np.append(T_ana_2, f_add, axis=0)\n",
    "print(T_ana_dep)"
   ]
  },
  {
   "cell_type": "code",
   "execution_count": 24,
   "metadata": {},
   "outputs": [
    {
     "name": "stdout",
     "output_type": "stream",
     "text": [
      "check condition:\n",
      "[0.47 0.88 1.   0.65]\n"
     ]
    }
   ],
   "source": [
    "S_dep = T_ana_dep.T @ T_ana_dep\n",
    "S_dep_inv = inv(S_dep)\n",
    "T_dual_syn_dep = S_dep_inv @ T_ana_dep.T\n",
    "print('check condition:')\n",
    "print(np.diag(T_ana_dep @ T_dual_syn_dep))\n",
    "#[np.dot(T_ana_dep[k,:], T_dual_syn_dep[:,k]) for k in range(n+1)]"
   ]
  },
  {
   "cell_type": "code",
   "execution_count": null,
   "metadata": {},
   "outputs": [],
   "source": []
  }
 ],
 "metadata": {
  "kernelspec": {
   "display_name": "frames",
   "language": "python",
   "name": "python3"
  },
  "language_info": {
   "codemirror_mode": {
    "name": "ipython",
    "version": 3
   },
   "file_extension": ".py",
   "mimetype": "text/x-python",
   "name": "python",
   "nbconvert_exporter": "python",
   "pygments_lexer": "ipython3",
   "version": "3.12.0"
  },
  "orig_nbformat": 4,
  "vscode": {
   "interpreter": {
    "hash": "6cdc368d6efdb27d0405eb690d776dd8df0afb6634985700a0e8b092a906700e"
   }
  }
 },
 "nbformat": 4,
 "nbformat_minor": 2
}

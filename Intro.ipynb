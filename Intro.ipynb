{
 "cells": [
  {
   "cell_type": "code",
   "execution_count": 150,
   "metadata": {},
   "outputs": [],
   "source": [
    "import numpy as np\n",
    "from numpy.linalg import det, inv, eigvals, norm, matrix_rank\n",
    "import scipy as sp\n",
    "from scipy.linalg import null_space, sqrtm\n",
    "\n",
    "np.set_printoptions(precision=2)"
   ]
  },
  {
   "attachments": {},
   "cell_type": "markdown",
   "metadata": {},
   "source": [
    "Real finite collection of vectors:<br>\n",
    "$$F=(f_i)_{i\\in I}\\subset \\mathbb{R}^n$$\n",
    "$$I=\\{1,...,m\\}$$\n",
    "$$m/n\\; \\dots \\text{ \"redundancy\"}$$\n",
    "$F$ is a frame if there are $A,B>0$ such that $$A\\cdot \\|f\\|^2 \\leq \\sum_{i\\in I} \\vert \\langle f,f_i \\rangle \\vert^2 \\leq B\\cdot \\|f\\|^2$$\n",
    "for all $f\\in \\mathbb{R}^n$. This is equivalent to $F$ being a spanning set for $\\mathbb{R}^n$ and $A,B$ indicate the numerical stability (we'll see). Clearly, $ m\\geq n$ has to hold. <br>"
   ]
  },
  {
   "attachments": {},
   "cell_type": "markdown",
   "metadata": {},
   "source": [
    "Today: Real random frames:<br>\n",
    "$$f_i \\sim \\mathcal{N}(0,1_n)\\; \\text{i.i.d. for all } i\\in I$$"
   ]
  },
  {
   "cell_type": "code",
   "execution_count": 166,
   "metadata": {},
   "outputs": [],
   "source": [
    "# dimensions\n",
    "m = 6\n",
    "n = 3"
   ]
  },
  {
   "attachments": {},
   "cell_type": "markdown",
   "metadata": {},
   "source": [
    "Analysis operator maps a vector $f\\in \\mathbb{R}^n$ to its frame coefficients via inner products with the $f_i$.\n",
    "$\\begin{align}\n",
    "    T^*:\\mathbb{R}^n &\\rightarrow \\mathbb{R}^m \\\\ f&\\mapsto\\left(\\langle f, f_i\\rangle\\right)_{i\\in I} = \\left(\\langle f_i, f\\rangle\\right)_{i\\in I}\n",
    "\\end{align}$\n",
    "Matrix multiplication from the left:\n",
    "$$T^* f = \\begin{pmatrix}\n",
    "    -\\quad  f_1\\quad  -\\\\\n",
    "  \n",
    "    -\\quad  f_2\\quad  -\\\\\n",
    "      \\vdots  \\\\\n",
    "    -\\quad  f_m\\quad  -\n",
    "\\end{pmatrix} f$$\n",
    "If $F$ is a frame, $T^*$ is injective iff $T^*$ has full (column) rank."
   ]
  },
  {
   "attachments": {},
   "cell_type": "markdown",
   "metadata": {},
   "source": [
    "Random: $T^*$ is a Gaussian matrix, which has full rank with probability one, i.e., a random collections of random vectors is a frame with prob one."
   ]
  },
  {
   "cell_type": "code",
   "execution_count": 167,
   "metadata": {},
   "outputs": [
    {
     "name": "stdout",
     "output_type": "stream",
     "text": [
      "T* =\n",
      "[[ 0.07 -0.04  1.26]\n",
      " [-1.41 -0.94 -1.39]\n",
      " [-0.76 -1.05  0.55]\n",
      " [-1.72 -0.67 -0.8 ]\n",
      " [ 0.71  1.68 -0.74]\n",
      " [ 0.39 -0.01 -1.72]]\n",
      "rank = 3\n",
      "frame coeff: [ 0.63  0.65  1.07  1.3  -1.11 -1.37]\n"
     ]
    }
   ],
   "source": [
    "T_ana = np.random.randn(m, n)\n",
    "print('T* =')\n",
    "print(T_ana)\n",
    "print('rank =', matrix_rank(T_ana))\n",
    "\n",
    "f = np.random.randn(n)\n",
    "Tf = T_ana @ f\n",
    "print('frame coeff:', Tf)\n",
    "# \"change of basis\""
   ]
  },
  {
   "attachments": {},
   "cell_type": "markdown",
   "metadata": {},
   "source": [
    "Synthesis operator maps frame coefficients $c = (c_i)_{i\\in I}$ back to the signal space $\\mathbb{R}^n$ via linear combinations of $f_i$.\n",
    "\\begin{align}\n",
    "    T:\\mathbb{R}^m &\\rightarrow \\mathbb{R}^n\\\\\n",
    "    (c_i)_{i\\in I}&\\mapsto \\sum_{i\\in I} c_i\\cdot f_i.\n",
    "\\end{align}\n",
    "Matrix multiplication from the left:\n",
    "$$T c = (T^*)^\\top c = \\begin{pmatrix}\n",
    "    \\vert & \\vert & & \\vert\\\\\n",
    "    f_1 & f_2 & \\cdots & f_m\\\\\n",
    "    \\vert & \\vert & & \\vert\\\\\n",
    "\\end{pmatrix} c$$\n",
    "If $F$ is a frame, $T$ is surjective iff $T$ has full (row) rank."
   ]
  },
  {
   "cell_type": "code",
   "execution_count": 168,
   "metadata": {},
   "outputs": [
    {
     "name": "stdout",
     "output_type": "stream",
     "text": [
      "T =\n",
      "[[ 0.07 -1.41 -0.76 -1.72  0.71  0.39]\n",
      " [-0.04 -0.94 -1.05 -0.67  1.68 -0.01]\n",
      " [ 1.26 -1.39  0.55 -0.8  -0.74 -1.72]]\n",
      "rank = 3\n",
      "vector assoc with frame coefficients c: [ 1.29  1.36 -4.68]\n"
     ]
    }
   ],
   "source": [
    "T_syn = T_ana.T\n",
    "print('T =')\n",
    "print(T_syn)\n",
    "print('rank =', matrix_rank(T_syn))\n",
    "\n",
    "c = np.random.randn(m)\n",
    "Tc = T_syn @ c\n",
    "print('vector assoc with frame coefficients c:', Tc)"
   ]
  },
  {
   "attachments": {},
   "cell_type": "markdown",
   "metadata": {},
   "source": [
    "Gramian does synthesis, followed by analysis and gives the cross-correlations between the frame elements.\n",
    "\\begin{align}\n",
    "    G:\\mathbb{R}^m &\\rightarrow \\mathbb{R}^m\\\\\n",
    "    c&\\mapsto \\left(\\left\\langle \\sum_{j\\in I} c_j f_j,f_i \\right\\rangle\\right)_{i\\in I}.\n",
    "\\end{align}\n",
    "As a matrix:\n",
    "$$G=T^*T$$\n",
    "$$G[i,j] = \\langle f_i,f_j \\rangle$$\n",
    "$G$ is\n",
    "- injective from $R_{T^*}$ to $R_{T^*}$ but not invertible on $\\mathbb{R}^m$!\n",
    "- self-adjoint\n",
    "- the non-zero eigenvalues agree with those of $S$"
   ]
  },
  {
   "cell_type": "code",
   "execution_count": 169,
   "metadata": {},
   "outputs": [
    {
     "name": "stdout",
     "output_type": "stream",
     "text": [
      "Gram =\n",
      "[[ 1.58 -1.81  0.68 -1.11 -0.94 -2.14]\n",
      " [-1.81  4.82  1.3   4.19 -1.57  1.85]\n",
      " [ 0.68  1.3   1.99  1.58 -2.71 -1.25]\n",
      " [-1.11  4.19  1.58  4.07 -1.77  0.72]\n",
      " [-0.94 -1.57 -2.71 -1.77  3.86  1.54]\n",
      " [-2.14  1.85 -1.25  0.72  1.54  3.12]]\n",
      "det: 0.0\n",
      "self-adjoint: True\n",
      "non-zero eigenvalues of G:\n",
      "[10.91  7.53  1.  ]\n"
     ]
    }
   ],
   "source": [
    "G = T_ana @ T_syn\n",
    "print('Gram =')\n",
    "print(G)\n",
    "print('det:',det(G))\n",
    "print('self-adjoint:',np.all(G.T == G))\n",
    "\n",
    "lam_G = eigvals(G)\n",
    "#print(lam_G)\n",
    "lam_pos = [l for l in lam_G if abs(l)>1e-10]\n",
    "print('non-zero eigenvalues of G:')\n",
    "print(np.real(lam_pos))\n",
    "# whats the main diagonal of G?"
   ]
  },
  {
   "cell_type": "code",
   "execution_count": 170,
   "metadata": {},
   "outputs": [
    {
     "name": "stdout",
     "output_type": "stream",
     "text": [
      "1.5847216366792887\n"
     ]
    }
   ],
   "source": [
    "# the norms squared are on the diagonal\n",
    "print(np.linalg.norm(T_ana[0,:])**2)"
   ]
  },
  {
   "attachments": {},
   "cell_type": "markdown",
   "metadata": {},
   "source": [
    "Frame operator does analysis, followed by synthesis.\n",
    "\\begin{align}\n",
    "    S:\\mathbb{R}^n &\\rightarrow \\mathbb{R}^n\\\\\n",
    "    f&\\mapsto \\sum_{i\\in I} \\langle f,f_i \\rangle\\cdot f_i.\n",
    "\\end{align}\n",
    "As matrix:\n",
    "$$S = TT^*$$\n",
    "$S$ is\n",
    "- invertible\n",
    "- self-adjoint\n",
    "- positive"
   ]
  },
  {
   "cell_type": "code",
   "execution_count": 171,
   "metadata": {},
   "outputs": [
    {
     "name": "stdout",
     "output_type": "stream",
     "text": [
      "S =\n",
      "[[ 6.23e+00  4.49e+00  1.82e+00]\n",
      " [ 4.49e+00  5.25e+00 -4.93e-04]\n",
      " [ 1.82e+00 -4.93e-04  7.98e+00]]\n",
      "determinant: 82.5153138649509\n",
      "self-adjoint: True\n",
      "positive: 6.77610598880911\n",
      "eigenvalues of S:\n",
      "[ 1.   10.91  7.53]\n"
     ]
    }
   ],
   "source": [
    "S = T_syn @ T_ana\n",
    "print('S =')\n",
    "print(S)\n",
    "print('determinant:',det(S))\n",
    "print('self-adjoint:',np.all(S.T == S))\n",
    "print('positive:',np.dot(S @ f,f))\n",
    "\n",
    "lam = eigvals(S)\n",
    "print('eigenvalues of S:')\n",
    "print(lam)"
   ]
  },
  {
   "attachments": {},
   "cell_type": "markdown",
   "metadata": {},
   "source": [
    "The optimal frame bounds $A,B$ of $F$ are given by the smallest and largest eigenvalues of $S$.<br>\n",
    "$B^{-1},A^{-1}$ are the smallest and largest eigenvalues of $S^{-1}$."
   ]
  },
  {
   "cell_type": "code",
   "execution_count": 172,
   "metadata": {},
   "outputs": [
    {
     "name": "stdout",
     "output_type": "stream",
     "text": [
      "frame bounds: 1.0035151655956707 10.913376474449668\n",
      "frame bounds of inverse:\n",
      "0.09163067015430017 0.9964971475108879\n",
      "inverse of frame bounds:\n",
      "0.09163067015430046 0.9964971475108858\n"
     ]
    }
   ],
   "source": [
    "A = min(lam)\n",
    "B = max(lam)\n",
    "print('frame bounds:', A,B)\n",
    "\n",
    "S_inv = inv(S)\n",
    "lam_inv = eigvals(S_inv)\n",
    "A_inv = min(lam_inv)\n",
    "B_inv = max(lam_inv)\n",
    "print('frame bounds of inverse:')\n",
    "print(A_inv,B_inv)\n",
    "print('inverse of frame bounds:')\n",
    "print(B**(-1), A**(-1))"
   ]
  },
  {
   "attachments": {},
   "cell_type": "markdown",
   "metadata": {},
   "source": [
    "Canonical dual frame $\\tilde{F}=(S^{-1}f_i)_{i\\in I}$"
   ]
  },
  {
   "cell_type": "code",
   "execution_count": 173,
   "metadata": {},
   "outputs": [
    {
     "name": "stdout",
     "output_type": "stream",
     "text": [
      "synthesis operator:\n",
      "[[-0.09 -0.15  0.   -0.49 -0.28  0.4 ]\n",
      " [ 0.07 -0.05 -0.2   0.29  0.56 -0.34]\n",
      " [ 0.18 -0.14  0.07  0.01 -0.03 -0.31]]\n",
      "check duality:\n",
      "[[ 1.00e+00  3.04e-16 -1.05e-16]\n",
      " [-4.84e-16  1.00e+00 -7.51e-17]\n",
      " [-1.66e-16 -8.90e-17  1.00e+00]]\n"
     ]
    }
   ],
   "source": [
    "# canonical dual frame\n",
    "T_dual_syn = S_inv @ T_syn\n",
    "print('synthesis operator:')\n",
    "print(T_dual_syn)\n",
    "print('check duality:')\n",
    "S_mixed = T_dual_syn @ T_ana\n",
    "print(S_mixed)\n",
    "# this shows that every frame is dual to its dual"
   ]
  },
  {
   "attachments": {},
   "cell_type": "markdown",
   "metadata": {},
   "source": [
    "check that $B^{-1},A^{-1}$ are the framebounds of the canonical dual frame"
   ]
  },
  {
   "cell_type": "code",
   "execution_count": 174,
   "metadata": {},
   "outputs": [
    {
     "name": "stdout",
     "output_type": "stream",
     "text": [
      "0.09163067015430017 0.9964971475108879\n",
      "0.09163067015430046 0.9964971475108858\n"
     ]
    }
   ],
   "source": [
    "S_can = T_dual_syn @ T_dual_syn.T\n",
    "lam_can = eigvals(S_can)\n",
    "A_can = min(lam_can)\n",
    "B_can = max(lam_can)\n",
    "print(A_can, B_can)\n",
    "print(B**(-1), A**(-1))"
   ]
  },
  {
   "attachments": {},
   "cell_type": "markdown",
   "metadata": {},
   "source": [
    "Non-canonical dual frame: $\\tilde{F}'=(S^{-1}f_i + \\delta_i)_{i\\in I}$ for $\\delta_i \\in \\mathcal{N}_T$ (add elements form the null-space of the sythesis operator)"
   ]
  },
  {
   "cell_type": "code",
   "execution_count": 175,
   "metadata": {},
   "outputs": [
    {
     "name": "stdout",
     "output_type": "stream",
     "text": [
      "element in the kernel of F_syn: [[ 0.24 -0.56 -0.29  0.58 -0.26  0.38]]\n",
      "check:\n",
      "[[-2.78e-17]\n",
      " [-1.94e-16]\n",
      " [ 0.00e+00]]\n"
     ]
    }
   ],
   "source": [
    "# ONB for the null-space of T_syn\n",
    "B = null_space(T_syn)\n",
    "f_kernel = B[:,0].reshape(1,m)\n",
    "print('element in the kernel of F_syn:', f_kernel)\n",
    "print('check:')\n",
    "print(T_syn @ f_kernel.T)"
   ]
  },
  {
   "cell_type": "code",
   "execution_count": 177,
   "metadata": {},
   "outputs": [
    {
     "name": "stdout",
     "output_type": "stream",
     "text": [
      "synthesis operator:\n",
      "[[ 0.14 -0.71 -0.29  0.09 -0.54  0.77]\n",
      " [ 0.31 -0.62 -0.49  0.87  0.3   0.03]\n",
      " [ 0.41 -0.71 -0.22  0.59 -0.29  0.07]]\n",
      "check duality:\n",
      "[[ 1.00e+00 -1.66e-16 -3.46e-17]\n",
      " [-3.85e-16  1.00e+00  2.34e-17]\n",
      " [-3.39e-16 -3.73e-16  1.00e+00]]\n",
      "Since Tf_kern = 0, so is f_kernT*:\n",
      "[[-2.78e-17 -1.94e-16  0.00e+00]]\n"
     ]
    }
   ],
   "source": [
    "T_dual2_syn = T_dual_syn + f_kernel\n",
    "print('synthesis operator:')\n",
    "print(T_dual2_syn)\n",
    "print('check duality:')\n",
    "print(T_dual2_syn @ T_ana)\n",
    "# check that f_kernel is orthogonal to the range of T_ana\n",
    "print('Since Tf_kern = 0, so is f_kernT*:')\n",
    "print(f_kernel @ T_ana)"
   ]
  },
  {
   "attachments": {},
   "cell_type": "markdown",
   "metadata": {},
   "source": [
    "Another non-canonical dual: sparse! choose a sub-frame of $F$ and compute the canonical dual for this one."
   ]
  },
  {
   "cell_type": "code",
   "execution_count": 126,
   "metadata": {},
   "outputs": [
    {
     "name": "stdout",
     "output_type": "stream",
     "text": [
      "[1 2 4]\n"
     ]
    }
   ],
   "source": [
    "# choose 3 random frame elements\n",
    "idx = np.random.randint(0, m, 3)\n",
    "print(np.sort(idx))"
   ]
  },
  {
   "cell_type": "code",
   "execution_count": 127,
   "metadata": {},
   "outputs": [
    {
     "name": "stdout",
     "output_type": "stream",
     "text": [
      "synthesis operator:\n",
      "[[ 0.   -0.52  1.15  0.   -0.67  0.  ]\n",
      " [ 0.   -0.37 -0.06  0.   -0.44  0.  ]\n",
      " [ 0.    0.3   0.17  0.   -0.12  0.  ]]\n",
      "check duality:\n",
      "[[ 1.00e+00  1.86e-15  5.85e-15]\n",
      " [-7.11e-17  1.00e+00  1.02e-15]\n",
      " [ 1.71e-17  8.47e-17  1.00e+00]]\n"
     ]
    }
   ],
   "source": [
    "S_small = T_syn[:,idx] @ T_ana[idx,:]\n",
    "S_small_inv = inv(S_small)\n",
    "T_dual3_small_syn = S_small_inv @ T_syn[:,idx]\n",
    "T_dual3_syn = np.zeros((n,m))\n",
    "T_dual3_syn[:,idx] = T_dual3_small_syn\n",
    "print('synthesis operator:')\n",
    "print(T_dual3_syn)\n",
    "print('check duality:')\n",
    "print(T_dual3_syn @ T_ana)"
   ]
  },
  {
   "attachments": {},
   "cell_type": "markdown",
   "metadata": {},
   "source": [
    "canonical dual has minimal $\\ell^2$ norm"
   ]
  },
  {
   "cell_type": "code",
   "execution_count": 144,
   "metadata": {},
   "outputs": [
    {
     "name": "stdout",
     "output_type": "stream",
     "text": [
      "canonical: 1.5291732671117872\n",
      "non-canonical: 1.845380292156322\n",
      "non-canonical2: 1.5808459399700505\n"
     ]
    }
   ],
   "source": [
    "print('canonical:',norm(T_dual_syn))\n",
    "print('non-canonical:',norm(T_dual2_syn))\n",
    "print('non-canonical2:',norm(T_dual3_syn))"
   ]
  },
  {
   "attachments": {},
   "cell_type": "markdown",
   "metadata": {},
   "source": [
    "Canonical tight frame $F_t=(S^{-1/2}f_i)_{i\\in I}$"
   ]
  },
  {
   "cell_type": "code",
   "execution_count": 141,
   "metadata": {},
   "outputs": [
    {
     "name": "stdout",
     "output_type": "stream",
     "text": [
      "frame operator:\n",
      "[[ 1.00e+00 -8.44e-16  4.96e-16]\n",
      " [-8.44e-16  1.00e+00  1.21e-15]\n",
      " [ 4.96e-16  1.21e-15  1.00e+00]]\n"
     ]
    }
   ],
   "source": [
    "# canonical tight frame\n",
    "S_inv_sqrt = sqrtm(S_inv)\n",
    "T_syn_tight = S_inv_sqrt @ T_syn\n",
    "T_ana_tight = T_syn_tight.T\n",
    "S_tight = T_syn_tight @ T_ana_tight\n",
    "print('frame operator:')\n",
    "print(S_tight)"
   ]
  },
  {
   "attachments": {},
   "cell_type": "markdown",
   "metadata": {},
   "source": [
    "Redundant frames, which ones can we remove?\n",
    "\\begin{align}\n",
    "\\langle f_i, S^{-1}f_i \\rangle &\\neq 1 \\rightarrow \\text{can remove it}\\\\\n",
    "\\langle f_i, S^{-1}f_i \\rangle &= 1 \\rightarrow \\text{incomplete} \n",
    "\\end{align}\n",
    "intuition: if $\\langle f_i, S^{-1}f_i \\rangle = 1$, then $f_i$ spans its own 1-D sub-space"
   ]
  },
  {
   "cell_type": "code",
   "execution_count": 129,
   "metadata": {},
   "outputs": [
    {
     "name": "stdout",
     "output_type": "stream",
     "text": [
      "[[ 1.53 -0.44  0.17]\n",
      " [ 0.85  1.45  1.26]\n",
      " [-1.5  -1.99  1.41]\n",
      " [-1.56 -1.9  -1.79]]\n"
     ]
    }
   ],
   "source": [
    "T_ana_2 = np.random.randn(n, n)\n",
    "f_add = (np.random.randn(1)*T_ana_2[0,:] + np.random.randn(1)*T_ana_2[1,:]).reshape(1,n)\n",
    "T_ana_dep = np.append(T_ana_2, f_add, axis=0)\n",
    "print(T_ana_dep)"
   ]
  },
  {
   "cell_type": "code",
   "execution_count": 130,
   "metadata": {},
   "outputs": [
    {
     "name": "stdout",
     "output_type": "stream",
     "text": [
      "check condition:\n",
      "[0.98 0.36 1.   0.66]\n"
     ]
    }
   ],
   "source": [
    "S_dep = T_ana_dep.T @ T_ana_dep\n",
    "S_dep_inv = inv(S_dep)\n",
    "T_dual_syn_dep = S_dep_inv @ T_ana_dep.T\n",
    "print('check condition:')\n",
    "print(np.diag(T_ana_dep @ T_dual_syn_dep))\n",
    "#[np.dot(T_ana_dep[k,:], T_dual_syn_dep[:,k]) for k in range(n+1)]"
   ]
  },
  {
   "cell_type": "code",
   "execution_count": null,
   "metadata": {},
   "outputs": [],
   "source": []
  }
 ],
 "metadata": {
  "kernelspec": {
   "display_name": "frames",
   "language": "python",
   "name": "python3"
  },
  "language_info": {
   "codemirror_mode": {
    "name": "ipython",
    "version": 3
   },
   "file_extension": ".py",
   "mimetype": "text/x-python",
   "name": "python",
   "nbconvert_exporter": "python",
   "pygments_lexer": "ipython3",
   "version": "3.12.0"
  },
  "orig_nbformat": 4,
  "vscode": {
   "interpreter": {
    "hash": "6cdc368d6efdb27d0405eb690d776dd8df0afb6634985700a0e8b092a906700e"
   }
  }
 },
 "nbformat": 4,
 "nbformat_minor": 2
}

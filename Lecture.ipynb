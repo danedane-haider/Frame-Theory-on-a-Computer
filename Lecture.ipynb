{
 "cells": [
  {
   "cell_type": "code",
   "execution_count": 1,
   "metadata": {},
   "outputs": [],
   "source": [
    "import numpy as np\n",
    "from numpy.linalg import det, inv, eigvals, norm, matrix_rank\n",
    "import scipy as sp\n",
    "from scipy.linalg import null_space, sqrtm\n",
    "\n",
    "np.set_printoptions(precision=2)"
   ]
  },
  {
   "attachments": {},
   "cell_type": "markdown",
   "metadata": {},
   "source": [
    "Real finite collection of vectors:<br>\n",
    "$$F=(f_i)_{i\\in I}\\subset \\mathbb{R}^n$$\n",
    "$$I=\\{1,...,m\\}$$\n",
    "$$m/n\\; \\dots \\text{ \"redundancy\"}$$\n",
    "$F$ is a frame if there are $A,B>0$ such that $$A\\cdot \\|f\\|^2 \\leq \\sum_{i\\in I} \\vert \\langle f,f_i \\rangle \\vert^2 \\leq B\\cdot \\|f\\|^2$$\n",
    "for all $f\\in \\mathbb{R}^n$. This is equivalent to $F$ being a spanning set for $\\mathbb{R}^n$ (we'll see) and $A,B$ indicate the numerical stability (we'll see). Clearly, $ m\\geq n$ has to hold. <br>"
   ]
  },
  {
   "attachments": {},
   "cell_type": "markdown",
   "metadata": {},
   "source": [
    "Today: Real random frames:<br>\n",
    "$$f_i \\sim \\mathcal{N}(0,1_n)\\; \\text{i.i.d. for all } i\\in I$$"
   ]
  },
  {
   "cell_type": "code",
   "execution_count": null,
   "metadata": {},
   "outputs": [],
   "source": []
  },
  {
   "attachments": {},
   "cell_type": "markdown",
   "metadata": {},
   "source": [
    "Analysis operator maps a vector $f\\in \\mathbb{R}^n$ to its frame coefficients via inner products with the $f_i$.\n",
    "$\\begin{align}\n",
    "    T^*:\\mathbb{R}^n &\\rightarrow \\mathbb{R}^m \\\\ f&\\mapsto\\left(\\langle f, f_i\\rangle\\right)_{i\\in I} = \\left(\\langle f_i, f\\rangle\\right)_{i\\in I}\n",
    "\\end{align}$\n",
    "Matrix multiplication from the left:\n",
    "$$\n",
    "T^* f = \\begin{pmatrix}\n",
    "    -\\quad  f_1\\quad  -\\\\\n",
    "  \n",
    "    -\\quad  f_2\\quad  -\\\\\n",
    "      \\vdots  \\\\\n",
    "    -\\quad  f_m\\quad  -\n",
    "\\end{pmatrix} f\n",
    "$$\n",
    "$F$ is a frame iff $T^*$ is injective iff $T^*$ has full (column) rank iff there is $A>0$ such that $A\\cdot \\Vert f \\Vert^2 \\leq \\Vert T^* f\\Vert^2 = \\sum_{i\\in I} \\vert \\langle f,f_i \\rangle \\vert^2$."
   ]
  },
  {
   "attachments": {},
   "cell_type": "markdown",
   "metadata": {},
   "source": [
    "Random setting: $T^*$ is a Gaussian matrix, which has full rank with probability one, i.e., a random collections of random vectors is a frame with prob one."
   ]
  },
  {
   "cell_type": "code",
   "execution_count": null,
   "metadata": {},
   "outputs": [],
   "source": []
  },
  {
   "attachments": {},
   "cell_type": "markdown",
   "metadata": {},
   "source": [
    "Synthesis operator maps frame coefficients $c = (c_i)_{i\\in I}$ back to the signal space $\\mathbb{R}^n$ via linear combinations of $f_i$.\n",
    "\\begin{align}\n",
    "    T:\\mathbb{R}^m &\\rightarrow \\mathbb{R}^n\\\\\n",
    "    (c_i)_{i\\in I}&\\mapsto \\sum_{i\\in I} c_i\\cdot f_i.\n",
    "\\end{align}\n",
    "Matrix multiplication from the left:\n",
    "$$T c = (T^*)^\\top c = \\begin{pmatrix}\n",
    "    \\vert & \\vert & & \\vert\\\\\n",
    "    f_1 & f_2 & \\cdots & f_m\\\\\n",
    "    \\vert & \\vert & & \\vert\\\\\n",
    "\\end{pmatrix} c$$\n",
    "If $F$ is a frame, $T$ is surjective iff $T$ has full (row) rank."
   ]
  },
  {
   "cell_type": "code",
   "execution_count": null,
   "metadata": {},
   "outputs": [],
   "source": []
  },
  {
   "attachments": {},
   "cell_type": "markdown",
   "metadata": {},
   "source": [
    "Gramian does synthesis, followed by analysis.\n",
    "\\begin{align}\n",
    "    G:\\mathbb{R}^m &\\rightarrow \\mathbb{R}^m\\\\\n",
    "    c&\\mapsto \\left(\\left\\langle \\sum_{j\\in I} c_j f_j,f_i \\right\\rangle\\right)_{i\\in I}.\n",
    "\\end{align}\n",
    "As a matrix is carries the cross-correlations between the frame elements.\n",
    "$$G=T^*T$$\n",
    "$$G[i,j] = \\langle f_i,f_j \\rangle$$\n",
    "$G$ is ..."
   ]
  },
  {
   "cell_type": "code",
   "execution_count": null,
   "metadata": {},
   "outputs": [],
   "source": []
  },
  {
   "attachments": {},
   "cell_type": "markdown",
   "metadata": {},
   "source": [
    "Whats in the main diagonal of G?"
   ]
  },
  {
   "cell_type": "code",
   "execution_count": null,
   "metadata": {},
   "outputs": [],
   "source": []
  },
  {
   "attachments": {},
   "cell_type": "markdown",
   "metadata": {},
   "source": [
    "Frame operator does analysis, followed by synthesis.\n",
    "\\begin{align}\n",
    "    S:\\mathbb{R}^n &\\rightarrow \\mathbb{R}^n\\\\\n",
    "    f&\\mapsto \\sum_{i\\in I} \\langle f,f_i \\rangle\\cdot f_i.\n",
    "\\end{align}\n",
    "As matrix:\n",
    "$$S = TT^*$$\n",
    "$S$ is ...\n"
   ]
  },
  {
   "cell_type": "code",
   "execution_count": null,
   "metadata": {},
   "outputs": [],
   "source": []
  },
  {
   "attachments": {},
   "cell_type": "markdown",
   "metadata": {},
   "source": [
    "The optimal frame bounds $A,B$ of $F$ are given by ... (hint: spectrum is finite).<br>\n",
    "$B^{-1},A^{-1}$ are the smallest and largest eigenvalues of $S^{-1}$."
   ]
  },
  {
   "cell_type": "code",
   "execution_count": null,
   "metadata": {},
   "outputs": [],
   "source": []
  },
  {
   "attachments": {},
   "cell_type": "markdown",
   "metadata": {},
   "source": [
    "Canonical dual frame $\\tilde{F}=(...)_{i\\in I}$"
   ]
  },
  {
   "cell_type": "code",
   "execution_count": null,
   "metadata": {},
   "outputs": [],
   "source": []
  },
  {
   "attachments": {},
   "cell_type": "markdown",
   "metadata": {},
   "source": [
    "framebounds of the canonical dual frame: ..."
   ]
  },
  {
   "cell_type": "code",
   "execution_count": null,
   "metadata": {},
   "outputs": [],
   "source": []
  },
  {
   "attachments": {},
   "cell_type": "markdown",
   "metadata": {},
   "source": [
    "Non-canonical dual frame: $\\tilde{F}'=(S^{-1}f_i + \\delta_i)_{i\\in I}$ for $\\delta_i \\in \\mathcal{N}_T$ (add elements form the null-space of the sythesis operator = range of the orthogonal complement of )"
   ]
  },
  {
   "cell_type": "code",
   "execution_count": null,
   "metadata": {},
   "outputs": [],
   "source": []
  },
  {
   "cell_type": "code",
   "execution_count": null,
   "metadata": {},
   "outputs": [],
   "source": []
  },
  {
   "attachments": {},
   "cell_type": "markdown",
   "metadata": {},
   "source": [
    "Another non-canonical dual: sparse! choose a sub-frame of $F$ and compute the canonical dual for this one."
   ]
  },
  {
   "cell_type": "code",
   "execution_count": null,
   "metadata": {},
   "outputs": [],
   "source": []
  },
  {
   "cell_type": "code",
   "execution_count": null,
   "metadata": {},
   "outputs": [],
   "source": []
  },
  {
   "attachments": {},
   "cell_type": "markdown",
   "metadata": {},
   "source": [
    "canonical dual has minimal $\\ell^2$ norm"
   ]
  },
  {
   "cell_type": "code",
   "execution_count": null,
   "metadata": {},
   "outputs": [],
   "source": []
  },
  {
   "attachments": {},
   "cell_type": "markdown",
   "metadata": {},
   "source": [
    "Canonical tight frame $F_t=(...)_{i\\in I}$"
   ]
  },
  {
   "cell_type": "code",
   "execution_count": null,
   "metadata": {},
   "outputs": [],
   "source": []
  },
  {
   "attachments": {},
   "cell_type": "markdown",
   "metadata": {},
   "source": [
    "Redundant frames, which ones can we remove?\n",
    "\\begin{align}\n",
    "\\langle f_i, S^{-1}f_i \\rangle &\\neq 1 \\rightarrow \\text{can remove it}\\\\\n",
    "\\langle f_i, S^{-1}f_i \\rangle &= 1 \\rightarrow \\text{incomplete} \n",
    "\\end{align}\n",
    "intuition: if $\\langle f_i, S^{-1}f_i \\rangle = 1$, then $f_i$ spans its own 1-D sub-space"
   ]
  },
  {
   "cell_type": "code",
   "execution_count": null,
   "metadata": {},
   "outputs": [],
   "source": []
  },
  {
   "cell_type": "code",
   "execution_count": null,
   "metadata": {},
   "outputs": [],
   "source": []
  },
  {
   "cell_type": "code",
   "execution_count": null,
   "metadata": {},
   "outputs": [],
   "source": []
  }
 ],
 "metadata": {
  "kernelspec": {
   "display_name": "frames",
   "language": "python",
   "name": "python3"
  },
  "language_info": {
   "codemirror_mode": {
    "name": "ipython",
    "version": 3
   },
   "file_extension": ".py",
   "mimetype": "text/x-python",
   "name": "python",
   "nbconvert_exporter": "python",
   "pygments_lexer": "ipython3",
   "version": "3.12.0"
  },
  "orig_nbformat": 4,
  "vscode": {
   "interpreter": {
    "hash": "6cdc368d6efdb27d0405eb690d776dd8df0afb6634985700a0e8b092a906700e"
   }
  }
 },
 "nbformat": 4,
 "nbformat_minor": 2
}
